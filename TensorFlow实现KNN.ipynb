{
 "cells": [
  {
   "cell_type": "code",
   "execution_count": 49,
   "metadata": {},
   "outputs": [],
   "source": [
    "#导入鸢尾花数据集\n",
    "from sklearn.datasets import load_iris\n",
    "import tensorflow as tf\n",
    "#载入数据\n",
    "data=load_iris()"
   ]
  },
  {
   "cell_type": "code",
   "execution_count": 50,
   "metadata": {},
   "outputs": [],
   "source": [
    "#将数据集进行整体的打乱\n",
    "import numpy as np\n",
    "sefull=np.random.randint(0,150,150)\n",
    "data_1=data['data']\n",
    "target_1=data['target']"
   ]
  },
  {
   "cell_type": "code",
   "execution_count": 51,
   "metadata": {},
   "outputs": [],
   "source": [
    "#用TensorFlow实现KNN分类器\n",
    "K=5\n",
    "from sklearn.cross_validation import train_test_split\n",
    "#data为数据集的feature熟悉，y为label.\n",
    "#8 : 2的比例划分成训练集与验证集\n",
    "x_train, x_test, y_train, y_test = train_test_split(data_1, target_1, test_size = 0.2)"
   ]
  },
  {
   "cell_type": "code",
   "execution_count": 52,
   "metadata": {},
   "outputs": [],
   "source": [
    "# tf Graph Input，占位符，用来feed数据\n",
    "trainx=tf.placeholder(\"float\",[None,4])\n",
    "testx=tf.placeholder(\"float\",[4])"
   ]
  },
  {
   "cell_type": "code",
   "execution_count": 53,
   "metadata": {},
   "outputs": [],
   "source": [
    "#最近邻计算距离使用L1距离\n",
    "distance = tf.reduce_sum(tf.abs(tf.add(trainx, tf.negative(testx))), reduction_indices=1)"
   ]
  },
  {
   "cell_type": "code",
   "execution_count": 54,
   "metadata": {},
   "outputs": [],
   "source": [
    "#计算得到正确的个数\n",
    "accuracy=0"
   ]
  },
  {
   "cell_type": "code",
   "execution_count": 55,
   "metadata": {},
   "outputs": [
    {
     "name": "stdout",
     "output_type": "stream",
     "text": [
      "Test 0 True Class: 0\n",
      "Test 1 True Class: 1\n",
      "Test 2 True Class: 1\n",
      "Test 3 True Class: 2\n",
      "Test 4 True Class: 1\n",
      "Test 5 True Class: 1\n",
      "Test 6 True Class: 1\n",
      "Test 7 True Class: 2\n",
      "Test 8 True Class: 0\n",
      "Test 9 True Class: 1\n",
      "Test 10 True Class: 0\n",
      "Test 11 True Class: 2\n",
      "Test 12 True Class: 0\n",
      "Test 13 True Class: 0\n",
      "Test 14 True Class: 0\n",
      "Test 15 True Class: 0\n",
      "Test 16 True Class: 1\n",
      "Test 17 True Class: 1\n",
      "Test 18 True Class: 2\n",
      "Test 19 True Class: 2\n",
      "Test 20 True Class: 1\n",
      "Test 21 True Class: 1\n",
      "Test 22 True Class: 1\n",
      "Test 23 True Class: 0\n",
      "Test 24 True Class: 0\n",
      "Test 25 True Class: 1\n",
      "Test 26 True Class: 2\n",
      "Test 27 True Class: 0\n",
      "Test 28 True Class: 2\n",
      "Test 29 True Class: 1\n",
      "Acc: 93.33333333333333%\n"
     ]
    }
   ],
   "source": [
    "#初始化图\n",
    "init = tf.global_variables_initializer()\n",
    "#发布图\n",
    "with tf.Session() as sess:\n",
    "    sess.run(init)\n",
    "    for i in range(len(x_test)):\n",
    "        # Get nearest neighbor\n",
    "        #每次循环feed数据，候选Xtr全部，测试集x_test一次循环输入一条\n",
    "        nn_index = sess.run(distance, feed_dict={trainx: x_train, testx: x_test[i, :]}) \n",
    "        # 获取最近的k个样本\n",
    "        indexs = np.argsort(nn_index)[:K]\n",
    "        candidate_Y = y_train[indexs]\n",
    "        #投票表决\n",
    "        pred = np.argmax(np.bincount(candidate_Y))\n",
    "        print(\"Test\", i,\"True Class:\", y_test[i])\n",
    "        # 如果分类正确则accuracy+=1\n",
    "        if y_test[i] == pred:\n",
    "            accuracy += 1\n",
    "    acc = accuracy/len(y_test)\n",
    "    print(\"Acc:\",\"{}%\".format(acc * 100))"
   ]
  },
  {
   "cell_type": "code",
   "execution_count": null,
   "metadata": {},
   "outputs": [],
   "source": []
  }
 ],
 "metadata": {
  "kernelspec": {
   "display_name": "Python 3",
   "language": "python",
   "name": "python3"
  },
  "language_info": {
   "codemirror_mode": {
    "name": "ipython",
    "version": 3
   },
   "file_extension": ".py",
   "mimetype": "text/x-python",
   "name": "python",
   "nbconvert_exporter": "python",
   "pygments_lexer": "ipython3",
   "version": "3.6.4"
  }
 },
 "nbformat": 4,
 "nbformat_minor": 2
}
