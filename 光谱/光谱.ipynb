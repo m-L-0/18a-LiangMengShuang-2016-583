{
 "cells": [
  {
   "cell_type": "code",
   "execution_count": 36,
   "metadata": {},
   "outputs": [],
   "source": [
    "#导入所需要使用的应用包\n",
    "import scipy.io as sio\n",
    "import numpy as np\n",
    "import os\n",
    "import re"
   ]
  },
  {
   "cell_type": "code",
   "execution_count": 39,
   "metadata": {},
   "outputs": [
    {
     "data": {
      "text/plain": [
       "array([[3693., 4256., 4503., ..., 1050., 1024., 1024.],\n",
       "       [2589., 4372., 4334., ..., 1050., 1024., 1019.],\n",
       "       [3693., 4128., 4507., ..., 1045., 1029., 1019.],\n",
       "       ...,\n",
       "       [3192., 4235., 4313., ..., 1026., 1023., 1000.],\n",
       "       [3192., 4111., 4313., ..., 1030., 1014., 1008.],\n",
       "       [3192., 4115., 4313., ..., 1031., 1014., 1013.]])"
      ]
     },
     "execution_count": 39,
     "metadata": {},
     "output_type": "execute_result"
    }
   ],
   "source": [
    "#对数据集进行加载并为其添加，类别标签\n",
    "path='./dataset/train/'\n",
    "data=np.array([])\n",
    "#利用数组创建一个空标签\n",
    "label=[]\n",
    "for file in os.listdir(path):\n",
    "    key = re.sub('.mat',\"\",file)\n",
    "    num = re.sub(\"\\D\",\"\",file)\n",
    "    data1 = sio.loadmat(path+file)[key]\n",
    "    class_num = data1.shape[0]\n",
    "    for _ in range(class_num):\n",
    "        label.append(num)\n",
    "    data = np.append(data,data1)    \n",
    "data = data.reshape((-1,200)) \n",
    "label = np.array(label,dtype=np.int32)\n",
    "data"
   ]
  },
  {
   "cell_type": "code",
   "execution_count": 40,
   "metadata": {},
   "outputs": [
    {
     "name": "stdout",
     "output_type": "stream",
     "text": [
      "[10 10 10 ...  8  8  8]\n"
     ]
    }
   ],
   "source": [
    "print(label)"
   ]
  },
  {
   "cell_type": "code",
   "execution_count": 41,
   "metadata": {},
   "outputs": [],
   "source": [
    "#模型的训练，构建\n",
    "from sklearn.model_selection import train_test_split\n",
    "from sklearn.preprocessing import StandardScaler\n",
    "from sklearn.svm import SVC\n",
    "from sklearn.metrics import accuracy_score\n",
    "# 划分训练集和验证集\n",
    "X_train,X_test,y_train,y_test= train_test_split(\n",
    "        data,label,test_size=0.20,shuffle=True)  #将数据随机打乱\n",
    "scaler = StandardScaler()\n",
    "scaler.fit(X_train)\n",
    "X_train = scaler.transform(X_train)\n",
    "X_test = scaler.transform(X_test)"
   ]
  },
  {
   "cell_type": "code",
   "execution_count": 42,
   "metadata": {},
   "outputs": [
    {
     "name": "stdout",
     "output_type": "stream",
     "text": [
      "0.9285198555956679\n"
     ]
    }
   ],
   "source": [
    "svc = SVC(C=10,gamma=0.01,class_weight='balanced')  #构建分类器，设定参数\n",
    "svc.fit(X_train,y_train)\n",
    "y_pred = svc.predict(X_test)\n",
    "print(accuracy_score(y_test,y_pred))"
   ]
  },
  {
   "cell_type": "code",
   "execution_count": 43,
   "metadata": {},
   "outputs": [
    {
     "name": "stdout",
     "output_type": "stream",
     "text": [
      "[[3158. 4122. 4145. ... 1022. 1019. 1010.]\n",
      " [3023. 3737. 4027. ... 1019. 1008. 1004.]\n",
      " [2743. 4388. 4591. ... 1056. 1030. 1025.]\n",
      " ...\n",
      " [2561. 3881. 4051. ... 1018.  998. 1015.]\n",
      " [2745. 4391. 4335. ... 1046. 1029. 1019.]\n",
      " [3009. 3986. 3967. ... 1011. 1009. 1000.]]\n"
     ]
    }
   ],
   "source": [
    "# 对于测试集进行加载\n",
    "test= sio.loadmat(\"./dataset/data_test_final.mat\")['data_test_final']\n",
    "test= np.array(test_data, dtype=np.float64)\n",
    "print(test)"
   ]
  },
  {
   "cell_type": "code",
   "execution_count": 49,
   "metadata": {},
   "outputs": [
    {
     "data": {
      "text/plain": [
       "array([[ 0.51698954, -0.15423302, -0.89352438, ..., -0.89432146,\n",
       "        -0.13778634, -0.05087331],\n",
       "       [ 0.16027189, -1.96057531, -1.38287967, ..., -1.03737191,\n",
       "        -1.10308284, -0.91085482],\n",
       "       [-0.57958692,  1.09378529,  0.95607272, ...,  0.72691704,\n",
       "         0.82751017,  2.09908047],\n",
       "       ...,\n",
       "       [-1.06049515, -1.28495637, -1.28334978, ..., -1.0850554 ,\n",
       "        -1.98062512,  0.66577795],\n",
       "       [-0.57430221,  1.10786069, -0.10557943, ...,  0.25008219,\n",
       "         0.73975594,  1.23909896],\n",
       "       [ 0.12327895, -0.79231757, -1.63170439, ..., -1.41883979,\n",
       "        -1.01532861, -1.48417583]])"
      ]
     },
     "execution_count": 49,
     "metadata": {},
     "output_type": "execute_result"
    }
   ],
   "source": [
    "#将测试集进行标准化\n",
    "x_test = scaler.transform(test)\n",
    "x_test"
   ]
  },
  {
   "cell_type": "code",
   "execution_count": 50,
   "metadata": {},
   "outputs": [
    {
     "data": {
      "text/plain": [
       "array([12,  5,  3, ..., 14, 12,  6])"
      ]
     },
     "execution_count": 50,
     "metadata": {},
     "output_type": "execute_result"
    }
   ],
   "source": [
    "y_test = svc.predict(x_test)\n",
    "y_test"
   ]
  },
  {
   "cell_type": "code",
   "execution_count": 51,
   "metadata": {},
   "outputs": [],
   "source": [
    "import pandas as pd\n",
    "data = pd.DataFrame(y_test)\n",
    "data.to_csv(\"./dataset/testy.csv\")"
   ]
  },
  {
   "cell_type": "code",
   "execution_count": null,
   "metadata": {},
   "outputs": [],
   "source": []
  }
 ],
 "metadata": {
  "kernelspec": {
   "display_name": "Python 3",
   "language": "python",
   "name": "python3"
  },
  "language_info": {
   "codemirror_mode": {
    "name": "ipython",
    "version": 3
   },
   "file_extension": ".py",
   "mimetype": "text/x-python",
   "name": "python",
   "nbconvert_exporter": "python",
   "pygments_lexer": "ipython3",
   "version": "3.6.4"
  }
 },
 "nbformat": 4,
 "nbformat_minor": 2
}
