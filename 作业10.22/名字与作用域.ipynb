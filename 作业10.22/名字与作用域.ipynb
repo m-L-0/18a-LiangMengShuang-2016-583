{
 "cells": [
  {
   "cell_type": "raw",
   "metadata": {},
   "source": [
    "name_scope的作用：\n",
    "name_scope可以为其作用域中的节点的name添加一个或多个前缀，并使用这些前缀作为划分内部与外部op范围的标记，同时在Tensorboard可视化时可以作为一个整体出现（也可以展开），并且name_scope可以嵌套使用，代表不同层级的功能区域的划分\n",
    "variable_scope的作用：\n",
    "variable_scope主要用于管理变量作用域以及与变量相关的操作，同时variable_scope也可以像name_scope一样用来给不同操作区域划分范围（添加name前缀）variable_scope功能也要更丰富，最重要的是可以与tf.get_variable()等配合使用完成对变量的重复使用"
   ]
  },
  {
   "cell_type": "markdown",
   "metadata": {},
   "source": [
    "name_scope与variable_scope的相同点：\n",
    "variable_scope包含了name_scope的全部功能，即在variable_scope下也可以给OP与Tensor加上name_scope\n",
    "variable_scope可以像name_scope一样用来给不同操作区域划分范围\n",
    "name_scope与variable_scope的不同点：\n",
    "variable_scope可以与tf.get_variable()函数配合使用来完成对变量的重复使用\n",
    "name_scope使用tf.name_scope()创建，返回一个上下文管理器，name_scope的参数name可以是字母、数字、下划线，不能以下划线开头。"
   ]
  },
  {
   "cell_type": "code",
   "execution_count": null,
   "metadata": {},
   "outputs": [],
   "source": [
    "#构建逻辑回归模型使用get_variable与variable_scope将变量的创建与使用分开\n",
    "import pandas as pd\n",
    "import tensorflow as tf\n",
    "import matplotlib.pyplot as plt\n",
    "import numpy as np\n",
    "df=pd.read_csv(\"ex2data1.txt\",header=None)\n",
    "train_data=df.values\n",
    "#所使用的数据集\n",
    "X=tf.placeholder(tf.float32)\n",
    "Y=tf.placeholder(tf.float32)\n",
    "#训练目标\n",
    "W=tf.Variable(tf.zeros[featyre_num,1])   #权值矩阵\n",
    "b=tf.Variable([-1])  #偏置值\n",
    "#逻辑回归\n",
    "db = tf.matmul(X, tf.reshape(W, [-1, 1])) + b\n",
    "hyp = tf.sigmoid(db)\n",
    "cost0 = y * tf.log(hyp)\n",
    "cost1 = (1 - y) * tf.log(1 - hyp)\n",
    "cost = (cost0 + cost1) / -sample_num\n",
    "loss = tf.reduce_sum(cost)"
   ]
  },
  {
   "cell_type": "code",
   "execution_count": null,
   "metadata": {},
   "outputs": [],
   "source": []
  }
 ],
 "metadata": {
  "kernelspec": {
   "display_name": "Python 3",
   "language": "python",
   "name": "python3"
  },
  "language_info": {
   "codemirror_mode": {
    "name": "ipython",
    "version": 3
   },
   "file_extension": ".py",
   "mimetype": "text/x-python",
   "name": "python",
   "nbconvert_exporter": "python",
   "pygments_lexer": "ipython3",
   "version": "3.5.2"
  }
 },
 "nbformat": 4,
 "nbformat_minor": 2
}
