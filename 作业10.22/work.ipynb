{
 "cells": [
  {
   "cell_type": "code",
   "execution_count": 8,
   "metadata": {},
   "outputs": [
    {
     "name": "stdout",
     "output_type": "stream",
     "text": [
      "8\n"
     ]
    }
   ],
   "source": [
    "#tf.add()的用法\n",
    "a = tf.add(4, 6)\n",
    "with tf.Session() as sess:\n",
    "    print(sess.run(a))"
   ]
  },
  {
   "cell_type": "code",
   "execution_count": 9,
   "metadata": {},
   "outputs": [
    {
     "name": "stdout",
     "output_type": "stream",
     "text": [
      "-1\n"
     ]
    }
   ],
   "source": [
    "#tf.subtract()的用法\n",
    "b=tf.subtract(4,5)\n",
    "with tf.Session() as sess:\n",
    "    print(sess.run(b))"
   ]
  },
  {
   "cell_type": "code",
   "execution_count": 11,
   "metadata": {},
   "outputs": [
    {
     "name": "stdout",
     "output_type": "stream",
     "text": [
      "20\n"
     ]
    }
   ],
   "source": [
    "#tf.multiply()的用法\n",
    "c=tf.multiply(4,5)\n",
    "with tf.Session() as sess:\n",
    "    print(sess.run(c))"
   ]
  },
  {
   "cell_type": "code",
   "execution_count": 14,
   "metadata": {},
   "outputs": [
    {
     "name": "stdout",
     "output_type": "stream",
     "text": [
      "[0 3]\n"
     ]
    }
   ],
   "source": [
    "#tf.mod()的用法\n",
    "tmp=tf.mod([4,3],[2,5])\n",
    "with tf.Session() as sess:\n",
    "    print(sess.run(tmp))"
   ]
  },
  {
   "cell_type": "code",
   "execution_count": 17,
   "metadata": {
    "scrolled": true
   },
   "outputs": [
    {
     "name": "stdout",
     "output_type": "stream",
     "text": [
      "[ 1 16]\n"
     ]
    }
   ],
   "source": [
    "#tf.pow()的用法\n",
    "num=tf.pow([1,2],[1,4])\n",
    "with tf.Session() as sess:\n",
    "    print(sess.run(num))"
   ]
  },
  {
   "cell_type": "code",
   "execution_count": 18,
   "metadata": {},
   "outputs": [
    {
     "name": "stdout",
     "output_type": "stream",
     "text": [
      "4\n"
     ]
    }
   ],
   "source": [
    "#tf.square()的用法\n",
    "num1=tf.square(2)\n",
    "with tf.Session() as sess:\n",
    "    print(sess.run(num1))"
   ]
  },
  {
   "cell_type": "code",
   "execution_count": null,
   "metadata": {},
   "outputs": [],
   "source": [
    "#4阶张量img其shape=[10,28,28,3]代表10张28*28像素的3通道RGB图像\n",
    "t=tf.Grath()\n",
    "with t.as_default():\n",
    "    tf.set_random_seed(1)\n",
    "    img=tf.random_uniform([10,28,28,3])"
   ]
  },
  {
   "cell_type": "code",
   "execution_count": null,
   "metadata": {},
   "outputs": [],
   "source": [
    "#利用索引取出第二张图片\n",
    "g2=img[1,:,:,:]\n",
    "with tf.Session(graph=t) as sess:\n",
    "    print(sess.run(g2))"
   ]
  },
  {
   "cell_type": "code",
   "execution_count": null,
   "metadata": {},
   "outputs": [],
   "source": [
    "#利用切片取出第二张图片\n",
    "slice_g2=tf.slice(img,[1,0,0,0],[1,28,28,3])\n",
    "with tf.Session(graph=t) as sess:\n",
    "    print(sess.run(slice_g2))\n",
    "    "
   ]
  },
  {
   "cell_type": "code",
   "execution_count": null,
   "metadata": {},
   "outputs": [],
   "source": [
    "#取出其第1，3，5，7张图片\n",
    "for i in range(1,5):\n",
    "    g3=tf.slice(img,[2*i-1,0,0,0],[1,28,28,3])\n",
    "    with tf.Session(graph=t) as sess:\n",
    "        print(sess.run(g3))"
   ]
  },
  {
   "cell_type": "code",
   "execution_count": null,
   "metadata": {},
   "outputs": [],
   "source": [
    "#取出第6--8张\n",
    "g4=tf.slice(img,[5,7,7,0],[2,14,14,3])\n",
    "with tf.Session(graph=t) as sess:\n",
    "    print(sess.run(g4))"
   ]
  },
  {
   "cell_type": "code",
   "execution_count": null,
   "metadata": {},
   "outputs": [],
   "source": [
    "#将图片根据通道拆分成单分单位通道图片\n",
    "t1=tf.slice(img,[0,0,0,0],[10,28,28,1])\n",
    "t2=tf.slice(img,[0,0,0,1],[10,28,28,1])\n",
    "t3=tf.slice(img,[0,0,0,2],[10,28,28,1])\n",
    "with tf.Session(graph=t) as sess:\n",
    "    print(sess.run(t1))\n",
    "    print(sess.run(t2))\n",
    "    print(sess.run(t3))"
   ]
  },
  {
   "cell_type": "code",
   "execution_count": null,
   "metadata": {},
   "outputs": [],
   "source": [
    "#写出tf.shape(img)返回的张量的阶数和shape属性值\n",
    "with tf.Session(grape=t) as sess:\n",
    "    print(sess.run(tf.shape(tf.shape(img))))\n",
    "    print(sess.run(tf.rank(tf.shape(img))))\n",
    "    print(sess.run(tf.shape(img)))\n",
    "    print(sess.run(tf.rank(img)))"
   ]
  }
 ],
 "metadata": {
  "kernelspec": {
   "display_name": "Python 3",
   "language": "python",
   "name": "python3"
  },
  "language_info": {
   "codemirror_mode": {
    "name": "ipython",
    "version": 3
   },
   "file_extension": ".py",
   "mimetype": "text/x-python",
   "name": "python",
   "nbconvert_exporter": "python",
   "pygments_lexer": "ipython3",
   "version": "3.5.2"
  }
 },
 "nbformat": 4,
 "nbformat_minor": 2
}
