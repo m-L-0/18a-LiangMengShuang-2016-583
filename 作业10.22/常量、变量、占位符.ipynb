{
 "cells": [
  {
   "cell_type": "code",
   "execution_count": null,
   "metadata": {},
   "outputs": [],
   "source": [
    "#构建二元线性回归模型\n",
    "import tensorflow as tf\n",
    "x=tf.placeholder(dtype=tf.float32)\n",
    "W=tf.Variable(tf.zeros([1]))\n",
    "b=tf.Variable(tf.zeros([1]))\n",
    "y=tf.placeholder(dtype=tf.float32)\n",
    "y=W * x + b\n",
    "#对变量的初始化\n",
    "with tf.Session() as sess: \n",
    "    init = tf.global_variables_initializer()\n",
    "    sess.run(init)"
   ]
  },
  {
   "cell_type": "code",
   "execution_count": null,
   "metadata": {},
   "outputs": [],
   "source": []
  }
 ],
 "metadata": {
  "kernelspec": {
   "display_name": "Python 3",
   "language": "python",
   "name": "python3"
  },
  "language_info": {
   "codemirror_mode": {
    "name": "ipython",
    "version": 3
   },
   "file_extension": ".py",
   "mimetype": "text/x-python",
   "name": "python",
   "nbconvert_exporter": "python",
   "pygments_lexer": "ipython3",
   "version": "3.5.2"
  }
 },
 "nbformat": 4,
 "nbformat_minor": 2
}
