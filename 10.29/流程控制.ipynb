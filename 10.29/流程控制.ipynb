{
 "cells": [
  {
   "cell_type": "markdown",
   "metadata": {},
   "source": [
    "tf.maximum:用法tf.maximum(a,b),返回的是a,b之间的最大值\n",
    "tf.miniimum:用法tf.miniimum(a,b),返回的是a,b之间的最小值"
   ]
  },
  {
   "cell_type": "markdown",
   "metadata": {},
   "source": [
    "TensorArray可以看做是具有动态size功能的tensor数组。通常都是跟while_loop或map_fn结合使用例如："
   ]
  },
  {
   "cell_type": "code",
   "execution_count": 33,
   "metadata": {},
   "outputs": [],
   "source": [
    "import tensorflow as tf"
   ]
  },
  {
   "cell_type": "code",
   "execution_count": 34,
   "metadata": {
    "scrolled": true
   },
   "outputs": [],
   "source": [
    "def condition(time,output_ta_l):\n",
    "    return tf.less(time,3)  "
   ]
  },
  {
   "cell_type": "code",
   "execution_count": 35,
   "metadata": {},
   "outputs": [],
   "source": [
    "def body(time,output_ta_l):\n",
    "    output_ta_l=output_ta_l.write(time,[2.4,3.5])\n",
    "    return time+1,output_ta_l"
   ]
  },
  {
   "cell_type": "code",
   "execution_count": 37,
   "metadata": {},
   "outputs": [
    {
     "name": "stdout",
     "output_type": "stream",
     "text": [
      "3\n",
      "[[2.4 3.5]\n",
      " [2.4 3.5]\n",
      " [2.4 3.5]]\n"
     ]
    }
   ],
   "source": [
    "time=tf.constant(0)\n",
    "output_ta=tf.TensorArray(dtype=tf.float32,size=1,dynamic_size=True)\n",
    "result =tf.while_loop(condition,body,loop_vars=[time,output_ta])\n",
    "last_time,last_out=result\n",
    "final_out =last_out.stack()\n",
    "with tf.Session():\n",
    "    print(last_time.eval())\n",
    "    print(final_out.eval())"
   ]
  },
  {
   "cell_type": "code",
   "execution_count": 1,
   "metadata": {},
   "outputs": [
    {
     "name": "stdout",
     "output_type": "stream",
     "text": [
      "[3 3 3]\n",
      "[1 2 3]\n",
      "2\n",
      "0\n"
     ]
    }
   ],
   "source": [
    "#例子\n",
    "import tensorflow as tf\n",
    "a = [1,2,3]  \n",
    "\n",
    "f1 = tf.maximum(a, 3)  \n",
    "f2 = tf.minimum(a, 3)  \n",
    "f3 = tf.argmax(a, 0)  \n",
    "f4 = tf.argmin(a, 0)  \n",
    "\n",
    "with tf.Session() as sess:  \n",
    "    print(sess.run(f1))#print f1.eval()  \n",
    "    print(sess.run(f2)) \n",
    "    print(sess.run(f3))  \n",
    "    print(sess.run(f4))"
   ]
  },
  {
   "cell_type": "code",
   "execution_count": null,
   "metadata": {},
   "outputs": [],
   "source": []
  },
  {
   "cell_type": "code",
   "execution_count": null,
   "metadata": {},
   "outputs": [],
   "source": []
  },
  {
   "cell_type": "code",
   "execution_count": null,
   "metadata": {},
   "outputs": [],
   "source": []
  }
 ],
 "metadata": {
  "kernelspec": {
   "display_name": "Python 3",
   "language": "python",
   "name": "python3"
  },
  "language_info": {
   "codemirror_mode": {
    "name": "ipython",
    "version": 3
   },
   "file_extension": ".py",
   "mimetype": "text/x-python",
   "name": "python",
   "nbconvert_exporter": "python",
   "pygments_lexer": "ipython3",
   "version": "3.5.2"
  }
 },
 "nbformat": 4,
 "nbformat_minor": 2
}
