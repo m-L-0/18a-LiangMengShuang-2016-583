{
 "cells": [
  {
   "cell_type": "code",
   "execution_count": 2,
   "metadata": {},
   "outputs": [],
   "source": [
    "%matplotlib inline\n",
    "\n",
    "import numpy as np\n",
    "from PIL import Image\n",
    "from matplotlib import pyplot as plt\n",
    "\n",
    "import tensorflow as tf\n",
    "from tensorflow.examples.tutorials.mnist import input_data"
   ]
  },
  {
   "cell_type": "code",
   "execution_count": 4,
   "metadata": {},
   "outputs": [
    {
     "name": "stdout",
     "output_type": "stream",
     "text": [
      "Extracting MNIST_data\\train-images-idx3-ubyte.gz\n",
      "Extracting MNIST_data\\train-labels-idx1-ubyte.gz\n",
      "Extracting MNIST_data\\t10k-images-idx3-ubyte.gz\n",
      "Extracting MNIST_data\\t10k-labels-idx1-ubyte.gz\n"
     ]
    }
   ],
   "source": [
    "# 下载MNIST数据集并生成DataSet对象\n",
    "# 使用OneHot编码处理标记\n",
    "mnist = input_data.read_data_sets(\"MNIST_data\", one_hot=True)"
   ]
  },
  {
   "cell_type": "code",
   "execution_count": 5,
   "metadata": {
    "collapsed": true
   },
   "outputs": [
    {
     "name": "stdout",
     "output_type": "stream",
     "text": [
      "step     0, loss 135.1913, acc 0.0616\n",
      "step   500, loss 8.3201, acc 0.7431\n",
      "step  1000, loss 3.4236, acc 0.8076\n",
      "step  1500, loss 3.6755, acc 0.8356\n",
      "step  2000, loss 7.7179, acc 0.8476\n",
      "step  2500, loss 3.3216, acc 0.8561\n",
      "step  3000, loss 4.2705, acc 0.8598\n",
      "step  3500, loss 0.5047, acc 0.8619\n",
      "step  4000, loss 4.0071, acc 0.8693\n",
      "step  4500, loss 0.6305, acc 0.8760\n",
      "step  5000, loss 1.5960, acc 0.8789\n",
      "step  5500, loss 2.6227, acc 0.8808\n",
      "step  6000, loss 1.1107, acc 0.8854\n",
      "step  6500, loss 3.3581, acc 0.8846\n",
      "step  7000, loss 1.0172, acc 0.8850\n",
      "step  7500, loss 1.2483, acc 0.8852\n",
      "step  8000, loss 0.8678, acc 0.8914\n",
      "step  8500, loss 1.8665, acc 0.8902\n",
      "step  9000, loss 2.2070, acc 0.8926\n",
      "step  9500, loss 0.1948, acc 0.8939\n",
      "step 10000, loss 1.6553, acc 0.8969\n",
      "step 10500, loss 2.5085, acc 0.8961\n",
      "step 11000, loss 0.6884, acc 0.8966\n",
      "step 11500, loss 0.1206, acc 0.8945\n",
      "step 12000, loss 0.9247, acc 0.8993\n",
      "step 12500, loss 0.9263, acc 0.9005\n",
      "step 13000, loss 0.5432, acc 0.9004\n",
      "step 13500, loss 1.5330, acc 0.8982\n",
      "step 14000, loss 0.5699, acc 0.9025\n",
      "step 14500, loss 1.2113, acc 0.9013\n",
      "step 15000, loss 2.3756, acc 0.9043\n",
      "step 15500, loss 1.1049, acc 0.9025\n",
      "step 16000, loss 0.1705, acc 0.9036\n",
      "step 16500, loss 0.1643, acc 0.9037\n",
      "step 17000, loss 0.0698, acc 0.9077\n",
      "step 17500, loss 0.5317, acc 0.9030\n",
      "step 18000, loss 0.1919, acc 0.9085\n",
      "step 18500, loss 0.6255, acc 0.9036\n",
      "step 19000, loss 1.0227, acc 0.9099\n",
      "step 19500, loss 0.7101, acc 0.9030\n"
     ]
    }
   ],
   "source": [
    "with tf.Graph().as_default() as g:\n",
    "    # 输入、标记占位符\n",
    "    inputs = tf.placeholder(shape=[None, 784], dtype=tf.float32)\n",
    "    labels = tf.placeholder(shape=[None, 10], dtype=tf.float32)\n",
    "    \n",
    "    \n",
    "    # 创建128个隐藏层神经元参数\n",
    "    hidden_weight = tf.Variable(tf.random_normal([784, 128]), name='hidden_weight')\n",
    "    hidden_bias = tf.Variable(tf.zeros([128, ]), name='hidden_bias')\n",
    "    # 隐藏层前向传播\n",
    "    hidden_output = tf.nn.relu(tf.matmul(inputs, hidden_weight) + hidden_bias)\n",
    "    \n",
    "    \n",
    "    # 创建输出层10个神经元参数\n",
    "    output_weight = tf.Variable(tf.random_normal([128, 10], name='output_weight'))\n",
    "    output_bias = tf.Variable(tf.zeros([10, ]), name='output_bias')\n",
    "    # 输出层前向传播\n",
    "    logits = tf.matmul(hidden_output, output_weight) + output_bias\n",
    "    output = tf.nn.softmax(logits)\n",
    "    \n",
    "    \n",
    "    # 代价函数\n",
    "    loss = tf.reduce_mean(\n",
    "        tf.nn.softmax_cross_entropy_with_logits_v2(\n",
    "            logits=logits, labels=labels))\n",
    "    \n",
    "    # 正确率\n",
    "    acc = tf.reduce_mean(\n",
    "        tf.cast(tf.equal(tf.argmax(labels, axis=1), tf.argmax(output, axis=1)),\n",
    "                tf.float32))\n",
    "\n",
    "\n",
    "with tf.Session(graph=g) as sess:\n",
    "    # 定义梯度下降法优化器\n",
    "    optim = tf.train.GradientDescentOptimizer(learning_rate=0.01)\n",
    "    train_op = optim.minimize(loss)\n",
    "    sess.run(tf.global_variables_initializer())\n",
    "    \n",
    "    # 训练模型\n",
    "    for step in range(20000):\n",
    "        batch_images, batch_labels = mnist.train.next_batch(32)\n",
    "        res_loss, _ = sess.run([loss, train_op], feed_dict={\n",
    "            inputs: batch_images,\n",
    "            labels: batch_labels\n",
    "        })\n",
    "        \n",
    "        # 输出代价并验证模型\n",
    "        if step % 500 == 0:\n",
    "            accs = []\n",
    "            for test_step in range(10000 // 32):\n",
    "                batch_images, batch_labels = mnist.test.next_batch(32)\n",
    "                res_acc = sess.run(acc, feed_dict={\n",
    "                    inputs: batch_images,\n",
    "                    labels: batch_labels\n",
    "                })\n",
    "                accs.append(res_acc)\n",
    "            accs = np.mean(accs)\n",
    "            print('step %5d, loss %2.4f, acc %.4f' % (step, res_loss, accs))"
   ]
  },
  {
   "cell_type": "code",
   "execution_count": null,
   "metadata": {},
   "outputs": [],
   "source": []
  }
 ],
 "metadata": {
  "kernelspec": {
   "display_name": "Python 3",
   "language": "python",
   "name": "python3"
  },
  "language_info": {
   "codemirror_mode": {
    "name": "ipython",
    "version": 3
   },
   "file_extension": ".py",
   "mimetype": "text/x-python",
   "name": "python",
   "nbconvert_exporter": "python",
   "pygments_lexer": "ipython3",
   "version": "3.6.4"
  }
 },
 "nbformat": 4,
 "nbformat_minor": 2
}
