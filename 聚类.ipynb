{
 "cells": [
  {
   "cell_type": "code",
   "execution_count": 96,
   "metadata": {},
   "outputs": [],
   "source": [
    "import numpy as np\n",
    "import scipy\n",
    "from sklearn.cluster import KMeans\n",
    "from sklearn.metrics import accuracy_score\n",
    "import matplotlib.pyplot as plt"
   ]
  },
  {
   "cell_type": "code",
   "execution_count": 97,
   "metadata": {},
   "outputs": [],
   "source": [
    "#导入鸢尾花数据集\n",
    "from sklearn import datasets\n",
    "iris = datasets.load_iris()\n",
    "data = np.array(iris.data)\n",
    "lable = np.array(iris.target)"
   ]
  },
  {
   "cell_type": "code",
   "execution_count": 98,
   "metadata": {},
   "outputs": [],
   "source": [
    "#计算距离矩阵\n",
    "def euclidDistance(x1, x2, sqrt_flag=False):\n",
    "    res = np.sum((x1-x2)**2)\n",
    "    if sqrt_flag:\n",
    "        res = np.sqrt(res)\n",
    "    return res\n",
    "def calEuclidDistanceMatrix(X):\n",
    "    X = np.array(X)\n",
    "    S = np.zeros((len(X), len(X)))\n",
    "    for i in range(len(X)):\n",
    "        for j in range(i+1, len(X)):\n",
    "            S[i][j] = 1.0 * euclidDistance(X[i], X[j])\n",
    "            S[j][i] = S[i][j]\n",
    "    return S"
   ]
  },
  {
   "cell_type": "code",
   "execution_count": 99,
   "metadata": {},
   "outputs": [],
   "source": [
    "#利用KNN算法计算邻接矩阵 A\n",
    "def myKNN(S, k, sigma=3.0):\n",
    "    N = len(S)\n",
    "    A = np.zeros((N,N))\n",
    "    for i in range(N):\n",
    "        dist_with_index = zip(S[i], range(N))\n",
    "        dist_with_index = sorted(dist_with_index, key=lambda x:x[0])\n",
    "        neighbours_id = [dist_with_index[m][1] for m in range(k+1)] # xi的k最近邻\n",
    "        for j in neighbours_id: #xj是xi的最近邻\n",
    "            A[i][j] = np.exp(-S[i][j]/2/sigma/sigma)\n",
    "            A[j][i] = A[i][j] # 交换\n",
    "    return A"
   ]
  },
  {
   "cell_type": "code",
   "execution_count": 100,
   "metadata": {},
   "outputs": [],
   "source": [
    "#标准化的拉普拉斯矩阵\n",
    "#由A计算度矩阵D和拉普拉斯矩阵L\n",
    "def laplacian(A):\n",
    "#计算度矩阵:D\n",
    "    D = np.zeros(A.shape)\n",
    "    w = np.sum(A, axis=0)\n",
    "    D.flat[::len(w) + 1] = w ** (-0.5)  # 将D的diag设成w\n",
    "    return D.dot(A).dot(D)"
   ]
  },
  {
   "cell_type": "code",
   "execution_count": 101,
   "metadata": {},
   "outputs": [],
   "source": [
    "# Kmeans\n",
    "def k_means(X, n_clusters):\n",
    "    kmeans = KMeans(n_clusters=n_clusters, random_state=2)\n",
    "    return kmeans.fit(X).labels_"
   ]
  },
  {
   "cell_type": "code",
   "execution_count": 102,
   "metadata": {},
   "outputs": [],
   "source": [
    "#谱聚类\n",
    "def spectral_clustering(affinity, n_clusters, cluster_method=k_means):\n",
    "    L = laplacian(affinity)\n",
    "    eig_val, eig_vect = scipy.sparse.linalg.eigs(L, n_clusters)\n",
    "    X = eig_vect.real\n",
    "    rows_norm = np.linalg.norm(X, axis=2, ord=3)\n",
    "    Y = (X.T / rows_norm).T\n",
    "    labels = cluster_method(Y, n_clusters)\n",
    "    return labels"
   ]
  },
  {
   "cell_type": "code",
   "execution_count": 103,
   "metadata": {},
   "outputs": [],
   "source": [
    "if __name__ == '__main__':\n",
    "#将数据集进行聚类\n",
    "    import matplotlib.pyplot as plt\n",
    "    Similarity = calEuclidDistanceMatrix(data)\n",
    "    Adjacent = myKNN(Similarity, k=10)\n",
    "    Laplacian = laplacian(Adjacent)\n",
    "    x, V = np.linalg.eig(Laplacian)\n",
    "    x = zip(x, range(len(x)))\n",
    "    x = sorted(x, key=lambda x:x[0])\n",
    "    H = np.vstack([V[:,i] for (v, i) in x[:500]]).T\n",
    "    sp_kmeans = k_means(H,n_clusters=3)\n",
    "    pure_kmeans = k_means(data,n_clusters=3)"
   ]
  },
  {
   "cell_type": "code",
   "execution_count": 110,
   "metadata": {
    "scrolled": true
   },
   "outputs": [
    {
     "data": {
      "image/png": "[encoded data removed]",
      "text/plain": [
       "<matplotlib.figure.Figure at 0x178ed4f28d0>"
      ]
     },
     "metadata": {},
     "output_type": "display_data"
    }
   ],
   "source": [
    "#将鸢尾花数据集画成图\n",
    "for i in range(len(lable)):\n",
    "    if lable[i] == 0:\n",
    "        plt.scatter(data[i,2], data[i,1],c=\"w\", edgecolors='r')\n",
    "    elif lable[i] == 1:\n",
    "        plt.scatter(data[i,1], data[i,3], c=\"w\", edgecolors='g')\n",
    "    else:\n",
    "        plt.scatter(data[i,2], data[i,1], c=\"w\", edgecolors='b')"
   ]
  },
  {
   "cell_type": "code",
   "execution_count": 111,
   "metadata": {},
   "outputs": [
    {
     "data": {
      "image/png": "[encoded data removed]",
      "text/plain": [
       "<matplotlib.figure.Figure at 0x178ed1eea58>"
      ]
     },
     "metadata": {},
     "output_type": "display_data"
    }
   ],
   "source": [
    "#将聚类结果可视化，重新转换成图的形式\n",
    "#用圆圈、三角和矩阵表示各个簇\n",
    "for i in range(len(data)):\n",
    "    if pure_kmeans[i] == 0:\n",
    "        plt.scatter(data[i,2], data[i,1],c=\"w\", edgecolors='k', marker=\"v\")  #三角\n",
    "    elif pure_kmeans[i] == 1:\n",
    "        plt.scatter(data[i,2], data[i,3], c=\"w\", edgecolors='k', marker=\"s\") #矩形\n",
    "    else:\n",
    "        plt.scatter(data[i,2], data[i,1], c=\"w\", edgecolors='k', marker=\"o\") #圆圈"
   ]
  },
  {
   "cell_type": "code",
   "execution_count": 112,
   "metadata": {},
   "outputs": [
    {
     "name": "stdout",
     "output_type": "stream",
     "text": [
      "0.8933333333333333\n"
     ]
    }
   ],
   "source": [
    "#计算分簇正确率\n",
    "score_pure = accuracy_score(lable,pure_kmeans)\n",
    "print(score_pure)"
   ]
  },
  {
   "cell_type": "raw",
   "metadata": {},
   "source": [
    "该鸢尾花数据集共有4个特征变量，1个类别变量，共有150个样本，共有4个属性，3个类别，存在的噪声点会对正确率有所影响"
   ]
  },
  {
   "cell_type": "code",
   "execution_count": null,
   "metadata": {},
   "outputs": [],
   "source": []
  }
 ],
 "metadata": {
  "kernelspec": {
   "display_name": "Python 3",
   "language": "python",
   "name": "python3"
  },
  "language_info": {
   "codemirror_mode": {
    "name": "ipython",
    "version": 3
   },
   "file_extension": ".py",
   "mimetype": "text/x-python",
   "name": "python",
   "nbconvert_exporter": "python",
   "pygments_lexer": "ipython3",
   "version": "3.6.4"
  }
 },
 "nbformat": 4,
 "nbformat_minor": 2
}
